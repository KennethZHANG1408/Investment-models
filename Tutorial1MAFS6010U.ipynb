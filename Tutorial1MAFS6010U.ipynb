{
 "cells": [
  {
   "cell_type": "markdown",
   "metadata": {},
   "source": [
    "<center>\n",
    "    <br />\n",
    "    <h1>An introduction to Machine Learning with Scikit-Learn</h1>\n",
    "    <br /><br />\n",
    "   Yifei Huang\n",
    "    <br /><br />\n",
    "    MAFS6010U\n",
    "    <br /><br />\n",
    "    HKUST\n",
    "</center>"
   ]
  },
  {
   "cell_type": "markdown",
   "metadata": {},
   "source": [
    "## Prerequisites "
   ]
  },
  {
   "cell_type": "markdown",
   "metadata": {},
   "source": [
    "- Materials available on  <a href=\"https://piazza.com/ust.hk/spring2019/mafs6010u/resources\">Piazza</a>\n",
    "    \n",
    "- Require a Python distribution with scientific packages (NumPy, SciPy, Scikit-Learn, Pandas)\n"
   ]
  },
  {
   "cell_type": "markdown",
   "metadata": {},
   "source": [
    "# Outline\n",
    "\n",
    "* Preprocess data with Pandas and Numpy in Python\n",
    "* Scikit-Learn and Machine Learning in Python\n",
    "* Various Classification Models\n",
    "* Model evaluation and selection\n",
    "* Summary"
   ]
  },
  {
   "cell_type": "markdown",
   "metadata": {},
   "source": [
    "### Load some packages"
   ]
  },
  {
   "cell_type": "code",
   "execution_count": 1,
   "metadata": {},
   "outputs": [
    {
     "name": "stdout",
     "output_type": "stream",
     "text": [
      "Collecting mpl_finance\n",
      "Requirement already satisfied: matplotlib in /home/yhuangcc/anaconda3/envs/mafs6010u/lib/python3.7/site-packages (from mpl_finance) (3.0.2)\n",
      "Requirement already satisfied: numpy>=1.10.0 in /home/yhuangcc/anaconda3/envs/mafs6010u/lib/python3.7/site-packages (from matplotlib->mpl_finance) (1.15.4)\n",
      "Requirement already satisfied: cycler>=0.10 in /home/yhuangcc/anaconda3/envs/mafs6010u/lib/python3.7/site-packages (from matplotlib->mpl_finance) (0.10.0)\n",
      "Requirement already satisfied: kiwisolver>=1.0.1 in /home/yhuangcc/anaconda3/envs/mafs6010u/lib/python3.7/site-packages (from matplotlib->mpl_finance) (1.0.1)\n",
      "Requirement already satisfied: pyparsing!=2.0.4,!=2.1.2,!=2.1.6,>=2.0.1 in /home/yhuangcc/anaconda3/envs/mafs6010u/lib/python3.7/site-packages (from matplotlib->mpl_finance) (2.3.0)\n",
      "Requirement already satisfied: python-dateutil>=2.1 in /home/yhuangcc/anaconda3/envs/mafs6010u/lib/python3.7/site-packages (from matplotlib->mpl_finance) (2.7.5)\n",
      "Requirement already satisfied: six in /home/yhuangcc/anaconda3/envs/mafs6010u/lib/python3.7/site-packages (from cycler>=0.10->matplotlib->mpl_finance) (1.12.0)\n",
      "Requirement already satisfied: setuptools in /home/yhuangcc/anaconda3/envs/mafs6010u/lib/python3.7/site-packages (from kiwisolver>=1.0.1->matplotlib->mpl_finance) (40.6.3)\n",
      "Installing collected packages: mpl-finance\n",
      "Successfully installed mpl-finance-0.10.0\n"
     ]
    }
   ],
   "source": [
    "import sklearn\n",
    "import numpy as np\n",
    "import pandas as pd\n",
    "try:\n",
    "    from mpl_finance import candlestick_ohlc\n",
    "except ImportError:\n",
    "    ! pip install mpl_finance\n",
    "    from mpl_finance import candlestick_ohlc\n",
    "import matplotlib.pyplot as plt\n",
    "import matplotlib.dates as mdates\n",
    "plt.style.use('seaborn')"
   ]
  },
  {
   "cell_type": "markdown",
   "metadata": {},
   "source": [
    "### Loading external data with pandas"
   ]
  },
  {
   "cell_type": "code",
   "execution_count": 2,
   "metadata": {
    "collapsed": true
   },
   "outputs": [],
   "source": [
    "data=pd.read_csv('./okex_future_BTC_USD_this_week_1H.csv',parse_dates=['candle_begin_time'])"
   ]
  },
  {
   "cell_type": "code",
   "execution_count": 3,
   "metadata": {},
   "outputs": [
    {
     "data": {
      "text/html": [
       "<div>\n",
       "<style scoped>\n",
       "    .dataframe tbody tr th:only-of-type {\n",
       "        vertical-align: middle;\n",
       "    }\n",
       "\n",
       "    .dataframe tbody tr th {\n",
       "        vertical-align: top;\n",
       "    }\n",
       "\n",
       "    .dataframe thead th {\n",
       "        text-align: right;\n",
       "    }\n",
       "</style>\n",
       "<table border=\"1\" class=\"dataframe\">\n",
       "  <thead>\n",
       "    <tr style=\"text-align: right;\">\n",
       "      <th></th>\n",
       "      <th>candle_begin_time</th>\n",
       "      <th>open</th>\n",
       "      <th>high</th>\n",
       "      <th>low</th>\n",
       "      <th>close</th>\n",
       "      <th>volume</th>\n",
       "    </tr>\n",
       "  </thead>\n",
       "  <tbody>\n",
       "    <tr>\n",
       "      <th>0</th>\n",
       "      <td>2018-05-15 00:00:00</td>\n",
       "      <td>8674.33</td>\n",
       "      <td>8761.76</td>\n",
       "      <td>8663.17</td>\n",
       "      <td>8696.66</td>\n",
       "      <td>172152.0</td>\n",
       "    </tr>\n",
       "    <tr>\n",
       "      <th>1</th>\n",
       "      <td>2018-05-15 01:00:00</td>\n",
       "      <td>8694.66</td>\n",
       "      <td>8728.17</td>\n",
       "      <td>8662.17</td>\n",
       "      <td>8701.85</td>\n",
       "      <td>122668.0</td>\n",
       "    </tr>\n",
       "    <tr>\n",
       "      <th>2</th>\n",
       "      <td>2018-05-15 02:00:00</td>\n",
       "      <td>8699.98</td>\n",
       "      <td>8741.04</td>\n",
       "      <td>8642.36</td>\n",
       "      <td>8673.34</td>\n",
       "      <td>181228.0</td>\n",
       "    </tr>\n",
       "    <tr>\n",
       "      <th>3</th>\n",
       "      <td>2018-05-15 03:00:00</td>\n",
       "      <td>8673.19</td>\n",
       "      <td>8717.70</td>\n",
       "      <td>8638.95</td>\n",
       "      <td>8707.10</td>\n",
       "      <td>193166.0</td>\n",
       "    </tr>\n",
       "    <tr>\n",
       "      <th>4</th>\n",
       "      <td>2018-05-15 04:00:00</td>\n",
       "      <td>8710.92</td>\n",
       "      <td>8737.36</td>\n",
       "      <td>8684.20</td>\n",
       "      <td>8699.16</td>\n",
       "      <td>155912.0</td>\n",
       "    </tr>\n",
       "  </tbody>\n",
       "</table>\n",
       "</div>"
      ],
      "text/plain": [
       "    candle_begin_time     open     high      low    close    volume\n",
       "0 2018-05-15 00:00:00  8674.33  8761.76  8663.17  8696.66  172152.0\n",
       "1 2018-05-15 01:00:00  8694.66  8728.17  8662.17  8701.85  122668.0\n",
       "2 2018-05-15 02:00:00  8699.98  8741.04  8642.36  8673.34  181228.0\n",
       "3 2018-05-15 03:00:00  8673.19  8717.70  8638.95  8707.10  193166.0\n",
       "4 2018-05-15 04:00:00  8710.92  8737.36  8684.20  8699.16  155912.0"
      ]
     },
     "execution_count": 3,
     "metadata": {},
     "output_type": "execute_result"
    }
   ],
   "source": [
    "data.head()"
   ]
  },
  {
   "cell_type": "markdown",
   "metadata": {},
   "source": [
    "### Visualization"
   ]
  },
  {
   "cell_type": "code",
   "execution_count": 4,
   "metadata": {},
   "outputs": [
    {
     "data": {
      "text/plain": [
       "Text(0.5, 0, 'Date')"
      ]
     },
     "execution_count": 4,
     "metadata": {},
     "output_type": "execute_result"
    },
    {
     "data": {
      "image/png": "[encoded data removed]",
      "text/plain": [
       "<Figure size 2880x720 with 1 Axes>"
      ]
     },
     "metadata": {
      "needs_background": "light"
     },
     "output_type": "display_data"
    }
   ],
   "source": [
    "data['timestamp']=data.candle_begin_time.apply(mdates.date2num)\n",
    "fig,ax=plt.subplots(1,1,figsize=(40,10))\n",
    "plt.title('OKEX-FUTURE_BTC-USD_1H',fontsize=30)\n",
    "candlestick_ohlc(ax,data[['timestamp','open','high','low','close']].values,width=.6,colorup='g',alpha=1)\n",
    "ax.xaxis_date()\n",
    "ax.xaxis.set_major_formatter(mdates.DateFormatter('%y-%m-%d'))\n",
    "ax.set_ylabel('Price',fontdict={'size':30})\n",
    "ax.set_xlabel('Date',fontdict={'size':30})"
   ]
  },
  {
   "cell_type": "markdown",
   "metadata": {},
   "source": [
    "### What we want to do is to predict the next price down or up based on last price"
   ]
  },
  {
   "cell_type": "code",
   "execution_count": 5,
   "metadata": {
    "collapsed": true
   },
   "outputs": [],
   "source": [
    "data['down_or_up']=np.sign(data.close.diff().shift(-1))\n",
    "data=data.dropna()"
   ]
  },
  {
   "cell_type": "code",
   "execution_count": 6,
   "metadata": {},
   "outputs": [
    {
     "data": {
      "text/html": [
       "<div>\n",
       "<style scoped>\n",
       "    .dataframe tbody tr th:only-of-type {\n",
       "        vertical-align: middle;\n",
       "    }\n",
       "\n",
       "    .dataframe tbody tr th {\n",
       "        vertical-align: top;\n",
       "    }\n",
       "\n",
       "    .dataframe thead th {\n",
       "        text-align: right;\n",
       "    }\n",
       "</style>\n",
       "<table border=\"1\" class=\"dataframe\">\n",
       "  <thead>\n",
       "    <tr style=\"text-align: right;\">\n",
       "      <th></th>\n",
       "      <th>candle_begin_time</th>\n",
       "      <th>open</th>\n",
       "      <th>high</th>\n",
       "      <th>low</th>\n",
       "      <th>close</th>\n",
       "      <th>volume</th>\n",
       "      <th>timestamp</th>\n",
       "      <th>down_or_up</th>\n",
       "    </tr>\n",
       "  </thead>\n",
       "  <tbody>\n",
       "    <tr>\n",
       "      <th>0</th>\n",
       "      <td>2018-05-15 00:00:00</td>\n",
       "      <td>8674.33</td>\n",
       "      <td>8761.76</td>\n",
       "      <td>8663.17</td>\n",
       "      <td>8696.66</td>\n",
       "      <td>172152.0</td>\n",
       "      <td>736829.000000</td>\n",
       "      <td>1.0</td>\n",
       "    </tr>\n",
       "    <tr>\n",
       "      <th>1</th>\n",
       "      <td>2018-05-15 01:00:00</td>\n",
       "      <td>8694.66</td>\n",
       "      <td>8728.17</td>\n",
       "      <td>8662.17</td>\n",
       "      <td>8701.85</td>\n",
       "      <td>122668.0</td>\n",
       "      <td>736829.041667</td>\n",
       "      <td>-1.0</td>\n",
       "    </tr>\n",
       "    <tr>\n",
       "      <th>2</th>\n",
       "      <td>2018-05-15 02:00:00</td>\n",
       "      <td>8699.98</td>\n",
       "      <td>8741.04</td>\n",
       "      <td>8642.36</td>\n",
       "      <td>8673.34</td>\n",
       "      <td>181228.0</td>\n",
       "      <td>736829.083333</td>\n",
       "      <td>1.0</td>\n",
       "    </tr>\n",
       "    <tr>\n",
       "      <th>3</th>\n",
       "      <td>2018-05-15 03:00:00</td>\n",
       "      <td>8673.19</td>\n",
       "      <td>8717.70</td>\n",
       "      <td>8638.95</td>\n",
       "      <td>8707.10</td>\n",
       "      <td>193166.0</td>\n",
       "      <td>736829.125000</td>\n",
       "      <td>-1.0</td>\n",
       "    </tr>\n",
       "    <tr>\n",
       "      <th>4</th>\n",
       "      <td>2018-05-15 04:00:00</td>\n",
       "      <td>8710.92</td>\n",
       "      <td>8737.36</td>\n",
       "      <td>8684.20</td>\n",
       "      <td>8699.16</td>\n",
       "      <td>155912.0</td>\n",
       "      <td>736829.166667</td>\n",
       "      <td>1.0</td>\n",
       "    </tr>\n",
       "  </tbody>\n",
       "</table>\n",
       "</div>"
      ],
      "text/plain": [
       "    candle_begin_time     open     high      low    close    volume  \\\n",
       "0 2018-05-15 00:00:00  8674.33  8761.76  8663.17  8696.66  172152.0   \n",
       "1 2018-05-15 01:00:00  8694.66  8728.17  8662.17  8701.85  122668.0   \n",
       "2 2018-05-15 02:00:00  8699.98  8741.04  8642.36  8673.34  181228.0   \n",
       "3 2018-05-15 03:00:00  8673.19  8717.70  8638.95  8707.10  193166.0   \n",
       "4 2018-05-15 04:00:00  8710.92  8737.36  8684.20  8699.16  155912.0   \n",
       "\n",
       "       timestamp  down_or_up  \n",
       "0  736829.000000         1.0  \n",
       "1  736829.041667        -1.0  \n",
       "2  736829.083333         1.0  \n",
       "3  736829.125000        -1.0  \n",
       "4  736829.166667         1.0  "
      ]
     },
     "execution_count": 6,
     "metadata": {},
     "output_type": "execute_result"
    }
   ],
   "source": [
    "data.head()"
   ]
  },
  {
   "cell_type": "code",
   "execution_count": 7,
   "metadata": {},
   "outputs": [
    {
     "data": {
      "text/html": [
       "<div>\n",
       "<style scoped>\n",
       "    .dataframe tbody tr th:only-of-type {\n",
       "        vertical-align: middle;\n",
       "    }\n",
       "\n",
       "    .dataframe tbody tr th {\n",
       "        vertical-align: top;\n",
       "    }\n",
       "\n",
       "    .dataframe thead th {\n",
       "        text-align: right;\n",
       "    }\n",
       "</style>\n",
       "<table border=\"1\" class=\"dataframe\">\n",
       "  <thead>\n",
       "    <tr style=\"text-align: right;\">\n",
       "      <th></th>\n",
       "      <th>candle_begin_time</th>\n",
       "      <th>open</th>\n",
       "      <th>high</th>\n",
       "      <th>low</th>\n",
       "      <th>close</th>\n",
       "      <th>volume</th>\n",
       "      <th>timestamp</th>\n",
       "      <th>down_or_up</th>\n",
       "    </tr>\n",
       "  </thead>\n",
       "  <tbody>\n",
       "    <tr>\n",
       "      <th>6618</th>\n",
       "      <td>2019-02-14 18:00:00</td>\n",
       "      <td>3574.04</td>\n",
       "      <td>3576.45</td>\n",
       "      <td>3573.22</td>\n",
       "      <td>3575.91</td>\n",
       "      <td>210.194723</td>\n",
       "      <td>737104.750000</td>\n",
       "      <td>-1.0</td>\n",
       "    </tr>\n",
       "    <tr>\n",
       "      <th>6619</th>\n",
       "      <td>2019-02-14 19:00:00</td>\n",
       "      <td>3576.18</td>\n",
       "      <td>3577.88</td>\n",
       "      <td>3571.17</td>\n",
       "      <td>3574.89</td>\n",
       "      <td>164.462093</td>\n",
       "      <td>737104.791667</td>\n",
       "      <td>-1.0</td>\n",
       "    </tr>\n",
       "    <tr>\n",
       "      <th>6620</th>\n",
       "      <td>2019-02-14 20:00:00</td>\n",
       "      <td>3576.06</td>\n",
       "      <td>3576.06</td>\n",
       "      <td>3563.81</td>\n",
       "      <td>3566.38</td>\n",
       "      <td>178.780002</td>\n",
       "      <td>737104.833333</td>\n",
       "      <td>1.0</td>\n",
       "    </tr>\n",
       "    <tr>\n",
       "      <th>6621</th>\n",
       "      <td>2019-02-14 21:00:00</td>\n",
       "      <td>3565.87</td>\n",
       "      <td>3575.20</td>\n",
       "      <td>3556.68</td>\n",
       "      <td>3572.00</td>\n",
       "      <td>218.644452</td>\n",
       "      <td>737104.875000</td>\n",
       "      <td>-1.0</td>\n",
       "    </tr>\n",
       "    <tr>\n",
       "      <th>6622</th>\n",
       "      <td>2019-02-14 22:00:00</td>\n",
       "      <td>3570.56</td>\n",
       "      <td>3572.85</td>\n",
       "      <td>3564.21</td>\n",
       "      <td>3566.40</td>\n",
       "      <td>192.240609</td>\n",
       "      <td>737104.916667</td>\n",
       "      <td>-1.0</td>\n",
       "    </tr>\n",
       "  </tbody>\n",
       "</table>\n",
       "</div>"
      ],
      "text/plain": [
       "       candle_begin_time     open     high      low    close      volume  \\\n",
       "6618 2019-02-14 18:00:00  3574.04  3576.45  3573.22  3575.91  210.194723   \n",
       "6619 2019-02-14 19:00:00  3576.18  3577.88  3571.17  3574.89  164.462093   \n",
       "6620 2019-02-14 20:00:00  3576.06  3576.06  3563.81  3566.38  178.780002   \n",
       "6621 2019-02-14 21:00:00  3565.87  3575.20  3556.68  3572.00  218.644452   \n",
       "6622 2019-02-14 22:00:00  3570.56  3572.85  3564.21  3566.40  192.240609   \n",
       "\n",
       "          timestamp  down_or_up  \n",
       "6618  737104.750000        -1.0  \n",
       "6619  737104.791667        -1.0  \n",
       "6620  737104.833333         1.0  \n",
       "6621  737104.875000        -1.0  \n",
       "6622  737104.916667        -1.0  "
      ]
     },
     "execution_count": 7,
     "metadata": {},
     "output_type": "execute_result"
    }
   ],
   "source": [
    "data.tail()"
   ]
  },
  {
   "cell_type": "code",
   "execution_count": 8,
   "metadata": {
    "collapsed": true
   },
   "outputs": [],
   "source": [
    "X=data[['open','high','low','close','volume']].values\n",
    "y=data['down_or_up'].values"
   ]
  },
  {
   "cell_type": "code",
   "execution_count": 9,
   "metadata": {},
   "outputs": [
    {
     "data": {
      "text/plain": [
       "array([[8.67433000e+03, 8.76176000e+03, 8.66317000e+03, 8.69666000e+03,\n",
       "        1.72152000e+05],\n",
       "       [8.69466000e+03, 8.72817000e+03, 8.66217000e+03, 8.70185000e+03,\n",
       "        1.22668000e+05],\n",
       "       [8.69998000e+03, 8.74104000e+03, 8.64236000e+03, 8.67334000e+03,\n",
       "        1.81228000e+05],\n",
       "       ...,\n",
       "       [3.57606000e+03, 3.57606000e+03, 3.56381000e+03, 3.56638000e+03,\n",
       "        1.78780002e+02],\n",
       "       [3.56587000e+03, 3.57520000e+03, 3.55668000e+03, 3.57200000e+03,\n",
       "        2.18644452e+02],\n",
       "       [3.57056000e+03, 3.57285000e+03, 3.56421000e+03, 3.56640000e+03,\n",
       "        1.92240609e+02]])"
      ]
     },
     "execution_count": 9,
     "metadata": {},
     "output_type": "execute_result"
    }
   ],
   "source": [
    "X"
   ]
  },
  {
   "cell_type": "code",
   "execution_count": 10,
   "metadata": {},
   "outputs": [
    {
     "data": {
      "text/plain": [
       "(6623, 5)"
      ]
     },
     "execution_count": 10,
     "metadata": {},
     "output_type": "execute_result"
    }
   ],
   "source": [
    "X.shape"
   ]
  },
  {
   "cell_type": "code",
   "execution_count": 11,
   "metadata": {},
   "outputs": [
    {
     "data": {
      "text/plain": [
       "array([ 1., -1.,  1., ...,  1., -1., -1.])"
      ]
     },
     "execution_count": 11,
     "metadata": {},
     "output_type": "execute_result"
    }
   ],
   "source": [
    "y"
   ]
  },
  {
   "cell_type": "code",
   "execution_count": 12,
   "metadata": {},
   "outputs": [
    {
     "data": {
      "text/plain": [
       "(6623,)"
      ]
     },
     "execution_count": 12,
     "metadata": {},
     "output_type": "execute_result"
    }
   ],
   "source": [
    "y.shape"
   ]
  },
  {
   "cell_type": "markdown",
   "metadata": {},
   "source": [
    "## Split the data into training and validation\n",
    "Issue: the training error is a __biased__ estimate of the generalization error.\n",
    "\n",
    "Solution: Divide total data into two disjoint parts called training and validation sets (usually using 70% for training and 30% for validation).\n",
    "- Use the training set for fitting the model;\n",
    "- Use the validation set for evaluation only, thereby yielding an unbiased estimate."
   ]
  },
  {
   "cell_type": "code",
   "execution_count": 13,
   "metadata": {
    "collapsed": true
   },
   "outputs": [],
   "source": [
    "train_size=int(len(y)*0.7)\n",
    "X_train, y_train=X[:train_size], y[:train_size]\n",
    "X_val, y_val=X[train_size:], y[train_size:]"
   ]
  },
  {
   "cell_type": "markdown",
   "metadata": {},
   "source": [
    "### Transform the feature to the same scale\n",
    "\n",
    "- StandarScaler: X=(X - u) / s where u is the mean of the samples and s is the standard deviation\n",
    "- MinmaxScaler: X=(X - X_min) / X_max"
   ]
  },
  {
   "cell_type": "code",
   "execution_count": 14,
   "metadata": {
    "collapsed": true
   },
   "outputs": [],
   "source": [
    "from sklearn.preprocessing import StandardScaler\n",
    "scale=StandardScaler()\n",
    "scale.fit(X_train)\n",
    "X_train_scaled=scale.transform(X_train)\n",
    "X_val_scaled=scale.transform(X_val)"
   ]
  },
  {
   "cell_type": "code",
   "execution_count": 15,
   "metadata": {},
   "outputs": [
    {
     "data": {
      "text/plain": [
       "array([[ 2.68340902,  2.76453073,  2.70426659,  2.71440148,  3.97125254],\n",
       "       [ 2.71113596,  2.71881706,  2.70290241,  2.72147818,  2.75280471],\n",
       "       [ 2.71839161,  2.73633224,  2.67587799,  2.68260404,  4.19473149],\n",
       "       ...,\n",
       "       [-3.20513657, -3.22857419, -3.21534922, -3.21588942, -0.22445486],\n",
       "       [-3.22106627, -3.22715882, -3.25607   , -3.28047968, -0.21019077],\n",
       "       [-3.28267109, -3.27647896, -3.25312337, -3.27313027, -0.23175138]])"
      ]
     },
     "execution_count": 15,
     "metadata": {},
     "output_type": "execute_result"
    }
   ],
   "source": [
    "X_train_scaled"
   ]
  },
  {
   "cell_type": "code",
   "execution_count": 16,
   "metadata": {},
   "outputs": [
    {
     "data": {
      "text/plain": [
       "array([[-3.27080565, -3.26201227, -3.2424282 , -3.27446653, -0.23060444],\n",
       "       [-3.27612464, -3.30111181, -3.30051501, -3.30709572, -0.21607014],\n",
       "       [-3.30906147, -3.31864061, -3.28658672, -3.30250063, -0.23357483],\n",
       "       ...,\n",
       "       [-4.26983487, -4.2928495 , -4.25218098, -4.28087189, -0.26325551],\n",
       "       [-4.28373243, -4.2940199 , -4.26190758, -4.27320887, -0.26227392],\n",
       "       [-4.27733601, -4.29721809, -4.25163531, -4.28084462, -0.26292407]])"
      ]
     },
     "execution_count": 16,
     "metadata": {},
     "output_type": "execute_result"
    }
   ],
   "source": [
    "X_val_scaled"
   ]
  },
  {
   "cell_type": "markdown",
   "metadata": {},
   "source": [
    "# Classification"
   ]
  },
  {
   "cell_type": "markdown",
   "metadata": {},
   "source": [
    "## Framework\n",
    "\n",
    "Data comes as a finite learning set ${\\cal L} = (X, y)$ where\n",
    "* Input samples are given as an array $X$ of shape `n_samples` $\\times$ `n_features`, taking their values in ${\\cal X}$;\n",
    "* Output values are given as an array $y$, taking _symbolic_ values in ${\\cal Y}$."
   ]
  },
  {
   "cell_type": "markdown",
   "metadata": {},
   "source": [
    "The goal of supervised classification is to build an estimator $\\varphi: {\\cal X} \\mapsto {\\cal Y}$ minimizing\n",
    "\n",
    "$$\n",
    "Err(\\varphi) = \\mathbb{E}_{X,Y}\\{ \\ell(Y, \\varphi(X)) \\}\n",
    "$$\n",
    "\n",
    "where $\\ell$ is a loss function, e.g., the zero-one loss for classification $\\ell_{01}(Y,\\hat{Y}) = 1(Y \\neq \\hat{Y})$."
   ]
  },
  {
   "cell_type": "markdown",
   "metadata": {},
   "source": [
    "## Algorithms"
   ]
  },
  {
   "cell_type": "markdown",
   "metadata": {},
   "source": [
    "__Supervised learning:__\n",
    "\n",
    "* Logistic Regression\n",
    "* Support Vector Machines\n",
    "* Tree-based methods (Random Forests, Bagging, GBRT, ...)\n",
    "* Nearest neighbors \n",
    "* Neural networks (basics)"
   ]
  },
  {
   "cell_type": "markdown",
   "metadata": {},
   "source": [
    "## Data \n",
    "\n",
    "- Input data;\n",
    "    - X: \\[n, m\\] matrix, Numpy arrays or Scipy sparse matrices\n",
    "    - y: \\[n, \\] vector\n",
    "    - where n represent the number of data, m represent the feature number you have for each data sample\n",
    "- Algorithms are expressed using high-level operations defined on matrices or vectors;\n",
    "    - Leverage efficient low-leverage implementations ;\n",
    "    - Keep code short and readable. "
   ]
  },
  {
   "cell_type": "markdown",
   "metadata": {},
   "source": [
    "### Logistic regression\n",
    "\n",
    "Idea: model the decision boundary as an hyperplane."
   ]
  },
  {
   "cell_type": "code",
   "execution_count": 17,
   "metadata": {
    "collapsed": true
   },
   "outputs": [],
   "source": [
    "from sklearn.linear_model import LogisticRegression\n",
    "clf = LogisticRegression()"
   ]
  },
  {
   "cell_type": "code",
   "execution_count": 18,
   "metadata": {},
   "outputs": [
    {
     "name": "stderr",
     "output_type": "stream",
     "text": [
      "/home/yhuangcc/anaconda3/envs/mafs6010u/lib/python3.7/site-packages/sklearn/linear_model/logistic.py:433: FutureWarning: Default solver will be changed to 'lbfgs' in 0.22. Specify a solver to silence this warning.\n",
      "  FutureWarning)\n",
      "/home/yhuangcc/anaconda3/envs/mafs6010u/lib/python3.7/site-packages/sklearn/linear_model/logistic.py:460: FutureWarning: Default multi_class will be changed to 'auto' in 0.22. Specify the multi_class option to silence this warning.\n",
      "  \"this warning.\", FutureWarning)\n"
     ]
    },
    {
     "data": {
      "text/plain": [
       "LogisticRegression(C=1.0, class_weight=None, dual=False, fit_intercept=True,\n",
       "          intercept_scaling=1, max_iter=100, multi_class='warn',\n",
       "          n_jobs=None, penalty='l2', random_state=None, solver='warn',\n",
       "          tol=0.0001, verbose=0, warm_start=False)"
      ]
     },
     "execution_count": 18,
     "metadata": {},
     "output_type": "execute_result"
    }
   ],
   "source": [
    "clf.fit(X_train_scaled,y_train)"
   ]
  },
  {
   "cell_type": "code",
   "execution_count": 19,
   "metadata": {},
   "outputs": [
    {
     "name": "stdout",
     "output_type": "stream",
     "text": [
      "Training accuracy = 0.5569456427955134\n",
      "Validation accuracy = 0.5460493205837946\n"
     ]
    }
   ],
   "source": [
    "print('Training accuracy =',np.mean(clf.predict(X_train_scaled)==y_train))\n",
    "print('Validation accuracy =',np.mean(clf.predict(X_val_scaled)==y_val))"
   ]
  },
  {
   "cell_type": "code",
   "execution_count": 20,
   "metadata": {},
   "outputs": [
    {
     "data": {
      "text/plain": [
       "<matplotlib.axes._subplots.AxesSubplot at 0x7f0316028240>"
      ]
     },
     "execution_count": 20,
     "metadata": {},
     "output_type": "execute_result"
    },
    {
     "data": {
      "image/png": "[encoded data removed]",
      "text/plain": [
       "<Figure size 432x288 with 1 Axes>"
      ]
     },
     "metadata": {
      "needs_background": "light"
     },
     "output_type": "display_data"
    }
   ],
   "source": [
    "pd.Series(np.abs(clf.coef_[0])/(np.abs(clf.coef_[0]).sum()),index=['open','high','low','close','volume']).plot(kind='barh')"
   ]
  },
  {
   "cell_type": "markdown",
   "metadata": {},
   "source": [
    "### Decision trees\n",
    "\n",
    "Idea: greedily build a partition of the input space using cuts orthogonal to feature axes."
   ]
  },
  {
   "cell_type": "code",
   "execution_count": 21,
   "metadata": {
    "collapsed": true
   },
   "outputs": [],
   "source": [
    "from sklearn.tree import DecisionTreeClassifier\n",
    "clf=DecisionTreeClassifier()"
   ]
  },
  {
   "cell_type": "code",
   "execution_count": 22,
   "metadata": {},
   "outputs": [
    {
     "data": {
      "text/plain": [
       "DecisionTreeClassifier(class_weight=None, criterion='gini', max_depth=None,\n",
       "            max_features=None, max_leaf_nodes=None,\n",
       "            min_impurity_decrease=0.0, min_impurity_split=None,\n",
       "            min_samples_leaf=1, min_samples_split=2,\n",
       "            min_weight_fraction_leaf=0.0, presort=False, random_state=None,\n",
       "            splitter='best')"
      ]
     },
     "execution_count": 22,
     "metadata": {},
     "output_type": "execute_result"
    }
   ],
   "source": [
    "clf.fit(X_train_scaled,y_train)"
   ]
  },
  {
   "cell_type": "code",
   "execution_count": 23,
   "metadata": {},
   "outputs": [
    {
     "name": "stdout",
     "output_type": "stream",
     "text": [
      "Training accuracy = 1.0\n",
      "Validation accuracy = 0.5123301459486663\n"
     ]
    }
   ],
   "source": [
    "print('Training accuracy =',np.mean(clf.predict(X_train_scaled)==y_train))\n",
    "print('Validation accuracy =',np.mean(clf.predict(X_val_scaled)==y_val))"
   ]
  },
  {
   "cell_type": "code",
   "execution_count": 24,
   "metadata": {},
   "outputs": [
    {
     "data": {
      "text/plain": [
       "<matplotlib.axes._subplots.AxesSubplot at 0x7f031415d4e0>"
      ]
     },
     "execution_count": 24,
     "metadata": {},
     "output_type": "execute_result"
    },
    {
     "data": {
      "image/png": "[encoded data removed]",
      "text/plain": [
       "<Figure size 432x288 with 1 Axes>"
      ]
     },
     "metadata": {
      "needs_background": "light"
     },
     "output_type": "display_data"
    }
   ],
   "source": [
    "pd.Series(clf.feature_importances_,index=['open','high','low','close','volume']).plot(kind='barh')"
   ]
  },
  {
   "cell_type": "markdown",
   "metadata": {},
   "source": [
    "### Random Forests\n",
    "\n",
    "Idea: Build several decision trees with controlled randomness and average their decisions."
   ]
  },
  {
   "cell_type": "code",
   "execution_count": 25,
   "metadata": {
    "collapsed": true
   },
   "outputs": [],
   "source": [
    "from sklearn.ensemble import RandomForestClassifier\n",
    "clf=RandomForestClassifier()"
   ]
  },
  {
   "cell_type": "code",
   "execution_count": 26,
   "metadata": {},
   "outputs": [
    {
     "name": "stderr",
     "output_type": "stream",
     "text": [
      "/home/yhuangcc/anaconda3/envs/mafs6010u/lib/python3.7/site-packages/sklearn/ensemble/forest.py:246: FutureWarning: The default value of n_estimators will change from 10 in version 0.20 to 100 in 0.22.\n",
      "  \"10 in version 0.20 to 100 in 0.22.\", FutureWarning)\n"
     ]
    },
    {
     "data": {
      "text/plain": [
       "RandomForestClassifier(bootstrap=True, class_weight=None, criterion='gini',\n",
       "            max_depth=None, max_features='auto', max_leaf_nodes=None,\n",
       "            min_impurity_decrease=0.0, min_impurity_split=None,\n",
       "            min_samples_leaf=1, min_samples_split=2,\n",
       "            min_weight_fraction_leaf=0.0, n_estimators=10, n_jobs=None,\n",
       "            oob_score=False, random_state=None, verbose=0,\n",
       "            warm_start=False)"
      ]
     },
     "execution_count": 26,
     "metadata": {},
     "output_type": "execute_result"
    }
   ],
   "source": [
    "clf.fit(X_train_scaled,y_train)"
   ]
  },
  {
   "cell_type": "code",
   "execution_count": 27,
   "metadata": {},
   "outputs": [
    {
     "name": "stdout",
     "output_type": "stream",
     "text": [
      "Training accuracy = 0.978213977566868\n",
      "Validation accuracy = 0.5113236034222446\n"
     ]
    }
   ],
   "source": [
    "print('Training accuracy =',np.mean(clf.predict(X_train_scaled)==y_train))\n",
    "print('Validation accuracy =',np.mean(clf.predict(X_val_scaled)==y_val))"
   ]
  },
  {
   "cell_type": "code",
   "execution_count": 28,
   "metadata": {},
   "outputs": [
    {
     "data": {
      "text/plain": [
       "<matplotlib.axes._subplots.AxesSubplot at 0x7f030ffee7b8>"
      ]
     },
     "execution_count": 28,
     "metadata": {},
     "output_type": "execute_result"
    },
    {
     "data": {
      "image/png": "[encoded data removed]",
      "text/plain": [
       "<Figure size 432x288 with 1 Axes>"
      ]
     },
     "metadata": {
      "needs_background": "light"
     },
     "output_type": "display_data"
    }
   ],
   "source": [
    "pd.Series(clf.feature_importances_,index=['open','high','low','close','volume']).plot(kind='barh')"
   ]
  },
  {
   "cell_type": "markdown",
   "metadata": {},
   "source": [
    "### Boosting\n",
    "Idea: Boosting is an ensemble technique that attempts to create a strong classifier from a number of weak classifiers.\n",
    "\n",
    "- AdaBoost:\n",
    "- GradientBoosting: "
   ]
  },
  {
   "cell_type": "markdown",
   "metadata": {},
   "source": [
    "#### AdaBoost\n",
    "AdaBoost is a meta-estimator that begins by fitting a classifier on the original dataset and then fits additional copies of the classifier on the same dataset but where the weights of incorrectly classified instances are adjusted such that subsequent classifiers focus more on difficult cases."
   ]
  },
  {
   "cell_type": "code",
   "execution_count": 29,
   "metadata": {
    "collapsed": true
   },
   "outputs": [],
   "source": [
    "from sklearn.ensemble import AdaBoostClassifier\n",
    "clf=AdaBoostClassifier()"
   ]
  },
  {
   "cell_type": "code",
   "execution_count": 30,
   "metadata": {},
   "outputs": [
    {
     "data": {
      "text/plain": [
       "AdaBoostClassifier(algorithm='SAMME.R', base_estimator=None,\n",
       "          learning_rate=1.0, n_estimators=50, random_state=None)"
      ]
     },
     "execution_count": 30,
     "metadata": {},
     "output_type": "execute_result"
    }
   ],
   "source": [
    "clf.fit(X_train_scaled,y_train)"
   ]
  },
  {
   "cell_type": "code",
   "execution_count": 31,
   "metadata": {},
   "outputs": [
    {
     "name": "stdout",
     "output_type": "stream",
     "text": [
      "Training accuracy = 0.5125107851596203\n",
      "Validation accuracy = 0.5093105183694011\n"
     ]
    }
   ],
   "source": [
    "print('Training accuracy =',np.mean(clf.predict(X_train_scaled)==y_train))\n",
    "print('Validation accuracy =',np.mean(clf.predict(X_val_scaled)==y_val))"
   ]
  },
  {
   "cell_type": "code",
   "execution_count": 32,
   "metadata": {},
   "outputs": [
    {
     "data": {
      "text/plain": [
       "<matplotlib.axes._subplots.AxesSubplot at 0x7f030ffaf3c8>"
      ]
     },
     "execution_count": 32,
     "metadata": {},
     "output_type": "execute_result"
    },
    {
     "data": {
      "image/png": "[encoded data removed]",
      "text/plain": [
       "<Figure size 432x288 with 1 Axes>"
      ]
     },
     "metadata": {
      "needs_background": "light"
     },
     "output_type": "display_data"
    }
   ],
   "source": [
    "pd.Series(clf.feature_importances_,index=['open','high','low','close','volume']).plot(kind='barh')"
   ]
  },
  {
   "cell_type": "markdown",
   "metadata": {},
   "source": [
    "#### GradientBoosting\n",
    "GradientBoosting builds an additive model in a forward stage-wise fashion; it allows for the optimization of arbitrary differentiable loss functions"
   ]
  },
  {
   "cell_type": "code",
   "execution_count": 33,
   "metadata": {
    "collapsed": true
   },
   "outputs": [],
   "source": [
    "from sklearn.ensemble import GradientBoostingClassifier\n",
    "clf=GradientBoostingClassifier()"
   ]
  },
  {
   "cell_type": "code",
   "execution_count": 34,
   "metadata": {},
   "outputs": [
    {
     "data": {
      "text/plain": [
       "GradientBoostingClassifier(criterion='friedman_mse', init=None,\n",
       "              learning_rate=0.1, loss='deviance', max_depth=3,\n",
       "              max_features=None, max_leaf_nodes=None,\n",
       "              min_impurity_decrease=0.0, min_impurity_split=None,\n",
       "              min_samples_leaf=1, min_samples_split=2,\n",
       "              min_weight_fraction_leaf=0.0, n_estimators=100,\n",
       "              n_iter_no_change=None, presort='auto', random_state=None,\n",
       "              subsample=1.0, tol=0.0001, validation_fraction=0.1,\n",
       "              verbose=0, warm_start=False)"
      ]
     },
     "execution_count": 34,
     "metadata": {},
     "output_type": "execute_result"
    }
   ],
   "source": [
    "clf.fit(X_train_scaled,y_train)"
   ]
  },
  {
   "cell_type": "code",
   "execution_count": 35,
   "metadata": {},
   "outputs": [
    {
     "name": "stdout",
     "output_type": "stream",
     "text": [
      "Training accuracy = 0.709879206212252\n",
      "Validation accuracy = 0.5118268746854555\n"
     ]
    }
   ],
   "source": [
    "print('Training accuracy =',np.mean(clf.predict(X_train_scaled)==y_train))\n",
    "print('Validation accuracy =',np.mean(clf.predict(X_val_scaled)==y_val))"
   ]
  },
  {
   "cell_type": "code",
   "execution_count": 36,
   "metadata": {},
   "outputs": [
    {
     "data": {
      "text/plain": [
       "<matplotlib.axes._subplots.AxesSubplot at 0x7f030ff6cf98>"
      ]
     },
     "execution_count": 36,
     "metadata": {},
     "output_type": "execute_result"
    },
    {
     "data": {
      "image/png": "[encoded data removed]",
      "text/plain": [
       "<Figure size 432x288 with 1 Axes>"
      ]
     },
     "metadata": {
      "needs_background": "light"
     },
     "output_type": "display_data"
    }
   ],
   "source": [
    "pd.Series(clf.feature_importances_,index=['open','high','low','close','volume']).plot(kind='barh')"
   ]
  },
  {
   "cell_type": "markdown",
   "metadata": {},
   "source": [
    "# Summary\n",
    "\n",
    "- Simplest one maybe the best one\n",
    "- LogisticRegression is the best although little better than random guessing.\n",
    "- Scikit-Learn provides essential tools for machine learning. \n",
    "- It is more than training classifiers!\n",
    "- Try it for yourself!"
   ]
  },
  {
   "cell_type": "markdown",
   "metadata": {},
   "source": [
    "# Questions?"
   ]
  },
  {
   "cell_type": "code",
   "execution_count": null,
   "metadata": {
    "collapsed": true
   },
   "outputs": [],
   "source": []
  }
 ],
 "metadata": {
  "kernelspec": {
   "display_name": "Python 3",
   "language": "python",
   "name": "python3"
  },
  "language_info": {
   "codemirror_mode": {
    "name": "ipython",
    "version": 3
   },
   "file_extension": ".py",
   "mimetype": "text/x-python",
   "name": "python",
   "nbconvert_exporter": "python",
   "pygments_lexer": "ipython3",
   "version": "3.7.1"
  }
 },
 "nbformat": 4,
 "nbformat_minor": 2
}
